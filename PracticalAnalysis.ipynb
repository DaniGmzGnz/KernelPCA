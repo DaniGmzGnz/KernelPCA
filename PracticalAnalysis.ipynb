{
 "cells": [
  {
   "cell_type": "markdown",
   "metadata": {},
   "source": [
    "# NOTEBOOK USED FOR PRACTICAL ANALYSIS\n",
    "\n",
    "## Authors: Dani Gómez, Ricard Tarré\n",
    "\n",
    "\n"
   ]
  },
  {
   "cell_type": "markdown",
   "metadata": {},
   "source": [
    "# 1.Code for two-D reconstruction error"
   ]
  },
  {
   "cell_type": "markdown",
   "metadata": {},
   "source": [
    "#### Parameters of the function\n",
    "\n",
    "This piece of code, receives as an entrance four parameters:\n",
    "\n",
    "    1. K: Number of breaks\n",
    "    2. Path of dataset\n",
    "    3. Kernel function\n",
    "    4. Set of parameters\n",
    "    \n",
    "#### Purpose of the code\n",
    "    \n",
    "For every set of parameters it computes the reconstruction error that would be achieven if we apply kernel PCA with the kernel function chosen to the dataset given. \n",
    "##### !!!The dataset must be two dimensional!!!\n",
    "\n",
    "#### What is the process?\n",
    "\n",
    "For every set of parameters,it breaks the datasets in K groups and we iterate for each group. In every iteration one of the groups is left as 'test group' and the others are used to compute kernel matrix and corresponding projected vectors. Then we compute reconstruction error for every point in the test group and we store the average of all the points. For every group we store the reconstrcution error and we finally show to the user the average error of all the groups. \n",
    "\n",
    "#### Result\n",
    "\n",
    "The user will see in the screen the reconstruction error for every combination of parameters, that have been applied with the kernel function chosen."
   ]
  },
  {
   "cell_type": "code",
   "execution_count": null,
   "metadata": {},
   "outputs": [],
   "source": [
    "import numpy as np\n",
    "import pandas as pd\n",
    "from matplotlib import pyplot\n",
    "from scipy.linalg import eigh\n",
    "import random\n",
    "\n",
    "from sklearn.model_selection import KFold\n",
    "from sklearn.decomposition import KernelPCA\n",
    "\n",
    "################### KERNELS ##########################\n",
    "def Polynomic(x,z,d,c):\n",
    "    return pow(np.dot(x,z)+c,d)\n",
    "\n",
    "def Gaussian(x,z,sigma):\n",
    "    return np.exp((-(np.linalg.norm(x-z)**2))/(2*sigma**2))\n",
    "\n",
    "def Sigmoid(x,z,aplha,c):\n",
    "    return np.tanh(aplha*np.dot(x,z)+c)\n",
    "#######################################################\n",
    "\n",
    "\n",
    "################### KERNEL MATRIXES ###################\n",
    "def computeKernelMatrix(kernel, X, parameters):\n",
    "    if kernel == 'rbf':\n",
    "        return GaussianMatrix(X,parameters['sigma'])\n",
    "    elif kernel == 'sigmoid':\n",
    "        return SigmoidMatrix(X,parameters['alpha'],parameters['c'])\n",
    "    elif kernel == 'polynomial':\n",
    "        return PolynomicalMatrix(X,parameters['d'],parameters['c'])\n",
    "\n",
    "def GaussianMatrix(X,sigma):\n",
    "    row,col=X.shape\n",
    "    GassMatrix=np.zeros(shape=(row,row))\n",
    "    i=0\n",
    "    for v_i in X:\n",
    "        j=0\n",
    "        for v_j in X:\n",
    "            GassMatrix[i,j]=Gaussian(v_i.T,v_j.T,sigma)\n",
    "            j+=1\n",
    "        i+=1\n",
    "    return GassMatrix\n",
    "\n",
    "def SigmoidMatrix(X,sigma, alpha, c):\n",
    "    row,col=X.shape\n",
    "    SigmoidMatrix=np.zeros(shape=(row,row))\n",
    "    i=0\n",
    "    for v_i in X:\n",
    "        j=0\n",
    "        for v_j in X:\n",
    "            SigmoidMatrix[i,j]=Sigmoid(v_i.T,v_j.T,alpha, c)\n",
    "            j+=1\n",
    "        i+=1\n",
    "    return SigmoidMatrix\n",
    "\n",
    "def PolynomicalMatrix(X,d,c):\n",
    "    row,col=X.shape\n",
    "    PolMatrix=np.zeros(shape=(row,row))\n",
    "    i=0\n",
    "    for v_i in X:\n",
    "        j=0\n",
    "        for v_j in X:\n",
    "            PolMatrix[i,j]=Polynomic(v_i.T,v_j.T,d,c)\n",
    "            j+=1\n",
    "        i+=1\n",
    "    return PolMatrix\n",
    "#####################################################\n",
    "\n",
    "\n",
    "################### INVERSES ########################\n",
    "def vPolynomic(intr,d,c):\n",
    "    return pow(intr,(1/d))-c\n",
    "\n",
    "def vSigmoid(intr,alpha,c):\n",
    "    return (np.arctanh(intr)-c)/alpha\n",
    "#####################################################\n",
    "\n",
    "\n",
    "################### PRE-IMAGES ######################\n",
    "def ComputePreImage(kernel, parameters, val, evec, X, gamma):\n",
    "    if kernel == 'rbf':\n",
    "        return ComputePreImageRBF(X,val,evec, gamma, parameters['sigma'])\n",
    "    elif kernel == 'sigmoid':\n",
    "        return ComputePreImageSigmoid(X,val,evec, gamma, parameters['alpha'],parameters['c'])\n",
    "    elif kernel == 'polynomial':\n",
    "        return ComputePreImagePolynomic(X,val,evec, gamma, parameters['d'],parameters['c'])\n",
    "    \n",
    "def ComputePreImageRBF(X,val,evec, gamma, sigma):\n",
    "    X_t = np.ones(len(X[0]))\n",
    "    new_X_t = iterateRBF(X_t,X,val,evec,gamma, sigma) #1500\n",
    "    i = 0\n",
    "    k = 0\n",
    "    while np.linalg.norm(new_X_t - X_t) > 0.001 and i < 500:\n",
    "        X_t = new_X_t\n",
    "        i += 1\n",
    "        if i == 500 and k < 3:\n",
    "            i = 0\n",
    "            k += 1\n",
    "            li = []\n",
    "            for i in range(len(X[0])):\n",
    "                li.append(random.uniform(-1, 1)) # If not converges, initialize random.\n",
    "            X_t = np.array(li) \n",
    "        new_X_t = iterateRBF(X_t,X,val,evec,gamma, sigma)\n",
    "    return new_X_t\n",
    "\n",
    "def ComputePreImagePolynomic(X,val,evec, gamma, d, c):\n",
    "    if d%2 == 0:\n",
    "        return ComputePreImagePolynomic_even(X, val, evec, gamma, d, c)\n",
    "    else:\n",
    "        return ComputePreImagePolynomic_odd(X, val, evec, gamma, d, c)\n",
    "\n",
    "def ComputePreImagePolynomic_odd(X,val,evec, gamma,d,c):\n",
    "    e = np.array([[1.0,0.0],[0.0,1.0]])\n",
    "    preimage = np.array([0.0,0.0])\n",
    "    for j in range(len(e)):\n",
    "        intr = 0\n",
    "        for i in range(len(X)):\n",
    "            intr += gamma[i]*Polynomic(e[j],X[i],d,c)\n",
    "        if intr < 0:\n",
    "            intr = -intr\n",
    "        preimage += vPolynomic(intr,d,c)*e[j]\n",
    "    return preimage\n",
    "        \n",
    "def ComputePreImagePolynomic_even(X,val,evec, gamma, d, c):\n",
    "    X_t = np.ones(len(X[0]))\n",
    "    new_X_t = iteratePolynomic(X_t,X,val,evec,gamma, d, c)\n",
    "    i = 0\n",
    "    while np.linalg.norm(new_X_t - X_t) > 0.001 and i < 1000:\n",
    "        X_t = new_X_t\n",
    "        new_X_t = iteratePolynomic(X_t,X,val,evec,gamma, d, c)\n",
    "        i += 1\n",
    "    return new_X_t\n",
    "        \n",
    "def ComputePreImageSigmoid(X,val,evec, gamma, alpha, c):\n",
    "    e = np.array([[1,0],[0,1]])\n",
    "    preimage = np.array([0,0])\n",
    "    for j in range(len(e)):\n",
    "        intr = 0\n",
    "        for i in range(len(X)):\n",
    "            intr += gamma[i]*Sigmoid(e[j],X[i],d,c)\n",
    "        preimage += vSigmoid(intr,d,c)*e[j]\n",
    "    return preimage\n",
    "\n",
    "def iterateRBF(X_t,X,val,evec,gamma, sigma):\n",
    "    num = 0\n",
    "    den = 0 \n",
    "    for i in range(len(X)):\n",
    "        num += gamma[i]*Gaussian(X[i],X_t,sigma)*X[i]\n",
    "        den += gamma[i]*Gaussian(X[i],X_t,sigma)\n",
    "        if den == 0.0:\n",
    "            return 0\n",
    "    return num/den\n",
    "\n",
    "def iteratePolynomic(X_t,X,val,evec,gamma, d, c):\n",
    "    result = 0\n",
    "    for i in range(len(X)):\n",
    "        result += gamma[i]*pow((np.dot(X_t,X[i])+c)/(np.dot(X_t,X_t)+c),d-1)*X[i]\n",
    "    return result\n",
    "###################################################\n",
    "\n",
    "\n",
    "################### GAMMA's ######################\n",
    "def ComputeGamma(kernel, parameters, val, evec, point, X):\n",
    "    if kernel == 'rbf':\n",
    "        return ComputeGammaRBF(point, X, val, evec, parameters['sigma'])\n",
    "    elif kernel == 'sigmoid':\n",
    "        return ComputeGammaSigmoid(point, X, val, evec, parameters['alpha'],parameters['c'])\n",
    "    elif kernel == 'polynomial':\n",
    "        return ComputeGammaPolynomic(point, X, val, evec,parameters['d'],parameters['c'])\n",
    "    \n",
    "def ComputeGammaRBF(X_test, X, val, evec, sigma):\n",
    "    gamma = []\n",
    "    for i in range(len(X)):\n",
    "        gamma.append(compute_gamma_RBF_i(i,X_test,X,val,evec,sigma))\n",
    "    return gamma\n",
    "\n",
    "def ComputeGammaPolynomic(X_test, X, val, evec, d, c):\n",
    "    gamma = []\n",
    "    for i in range(len(X)):\n",
    "        gamma.append(compute_gamma_Polynomic_i(i,X_test,X,val,evec, d, c))\n",
    "    return gamma\n",
    "\n",
    "def ComputeGammaSigmoid(X_test, X, val, evec, aplha, c):\n",
    "    gamma = []\n",
    "    for i in range(len(X)):\n",
    "        gamma.append(compute_gamma_Sigmoid_i(i,X_test,X,val,evec, aplha, c))\n",
    "    return gamma\n",
    "    \n",
    "def compute_gamma_RBF_i(i,X_test,X,val,evec, sigma):\n",
    "    gamma = 0\n",
    "    for j in range(2):\n",
    "        if j == 2:\n",
    "            if max(val[:pj]) > max(val[pj+1:]):\n",
    "                pj = np.argmax(val[:pj])\n",
    "            else:\n",
    "                pj = np.argmax(val[pj+1:])       \n",
    "        pj = np.argmax(val)\n",
    "        alphaj = evec[pj]\n",
    "        for h in range(len(alphaj)):\n",
    "            gamma += alphaj[i]*Gaussian(X[h],X_test,sigma)*alphaj[h]\n",
    "    return gamma  \n",
    "\n",
    "def compute_gamma_Polynomic_i(i,X_test,X,val,evec, d, c):\n",
    "    gamma = 0\n",
    "    for j in range(2):\n",
    "        if j == 2:\n",
    "            if max(val[:pj]) > max(val[pj+1:]):\n",
    "                pj = np.argmax(val[:pj])\n",
    "            else:\n",
    "                pj = np.argmax(val[pj+1:])       \n",
    "        pj = np.argmax(val)\n",
    "        alphaj = evec[pj]\n",
    "        for h in range(len(alphaj)):\n",
    "            gamma += alphaj[i]*Polynomic(X[h],X_test,d,c)*alphaj[h]\n",
    "    return gamma\n",
    "\n",
    "def compute_gamma_Sigmoid_i(i,X_test,X,val,evec, alpha, c):\n",
    "    gamma = 0\n",
    "    for j in range(2):\n",
    "        if j == 2:\n",
    "            if max(val[:pj]) > max(val[pj+1:]):\n",
    "                pj = np.argmax(val[:pj])\n",
    "            else:\n",
    "                pj = np.argmax(val[pj+1:])       \n",
    "        pj = np.argmax(val)\n",
    "        alphaj = evec[pj]\n",
    "        for h in range(len(alphaj)):\n",
    "            gamma += alphaj[i]*Sigmoid(X[h],X_test,alpha,c)*alphaj[h]\n",
    "    return gamma\n",
    "###########################################################\n",
    "    \n",
    "################### CROSS-VALIDATION ######################\n",
    "def CrossValidation_ParameterH(kf , kernel, parameters, X): \n",
    "    RecError = []\n",
    "    for train_index, test_index in kf.split(X):\n",
    "        print('NEW GROUP')\n",
    "        X_train= X[train_index]\n",
    "        X_test = X[test_index]\n",
    "        \n",
    "        KM = computeKernelMatrix(kernel, X_train, parameters)\n",
    "        val, evec = eigh(KM)\n",
    "        \n",
    "        for point in X_test:\n",
    "            gamma = ComputeGamma(kernel, parameters, val, evec, point, X_train) #3000\n",
    "            preimage = ComputePreImage(kernel, parameters, val, evec, X_train, gamma) #7500\n",
    "            RecError.append(np.linalg.norm(preimage-point))\n",
    "    \n",
    "    print(sum(RecError)/len(RecError))\n",
    "    return sum(RecError)/len(RecError)   \n",
    "\n",
    "\n",
    "def OptimizeParameters(filename, K, kernel, grid_parameters):\n",
    "    df = pd.read_csv(filename, index_col=0)\n",
    "    df = df.to_numpy()\n",
    "    \n",
    "    X = df[:,[0,1]]\n",
    "    #y = df[:,2]\n",
    "    \n",
    "    # Split dataset into groups\n",
    "    kf = KFold(n_splits = K, shuffle = True, random_state = 1) # No randomness    \n",
    "    \n",
    "    first = True\n",
    "    results = []\n",
    "    \n",
    "    for parameters in grid_parameters:\n",
    "        print('NEW PARAMETERS')\n",
    "        Rec_error = CrossValidation_ParameterH(kf, kernel, parameters, X)\n",
    "        results.append({Rec_error: parameters})   \n",
    "    return results\n",
    "###########################################################"
   ]
  },
  {
   "cell_type": "markdown",
   "metadata": {},
   "source": [
    "# 2 Code for plotting"
   ]
  },
  {
   "cell_type": "code",
   "execution_count": null,
   "metadata": {},
   "outputs": [],
   "source": [
    "# FUNCTIONS FOR PLOTTING\n",
    "\n",
    "from sklearn.decomposition import KernelPCA,PCA\n",
    "import numpy as np\n",
    "import matplotlib.pyplot as plt\n",
    "\n",
    "def plot_PCA(X,reds,blues):\n",
    "    pca = PCA()\n",
    "    X_pca = pca.fit_transform(X)\n",
    "    plt.figure()\n",
    "    plt.plot(X_pca[reds, 0], X_pca[reds, 1], \"ro\")\n",
    "    plt.plot(X_pca[blues, 0], X_pca[blues, 1], \"bo\")\n",
    "    plt.title(\"Projection by PCA\")\n",
    "    plt.xlabel(\"1st principal component\")\n",
    "    plt.ylabel(\"2nd component\")\n",
    "\n",
    "def plot_KPCA(X,reds,blues,kernel, parameters):\n",
    "    if kernel == 'rbf':\n",
    "        kpca = KernelPCA(n_components=2, kernel='rbf', gamma = parameters['gamma'])\n",
    "    elif kernel == 'polynomial':\n",
    "        kpca = KernelPCA(n_components=2, kernel='polynomial', degree = parameters['d'], coef0 = parameters['c'])\n",
    "    elif kernel == 'sigmoid':\n",
    "        kpca = KernelPCA(n_components=2, kernel='polynomial', alpha = parameters['alpha'], coef0 = parameters['c'])\n",
    "    X_kpca = kpca.fit_transform(X)\n",
    "    plt.figure()\n",
    "    plt.plot(X_kpca[reds, 0], X_kpca[reds, 1], \"ro\")\n",
    "    plt.plot(X_kpca[blues, 0], X_kpca[blues, 1], \"bo\")\n",
    "    plt.title(\"Projection by KPCA\")\n",
    "    plt.xlabel(\"1st principal component\")\n",
    "    plt.ylabel(\"2nd component\")"
   ]
  },
  {
   "cell_type": "markdown",
   "metadata": {},
   "source": [
    "# 3 TOY DATASETS"
   ]
  },
  {
   "cell_type": "markdown",
   "metadata": {},
   "source": [
    "## 3.1 Blobs"
   ]
  },
  {
   "cell_type": "markdown",
   "metadata": {},
   "source": [
    "### 3.1.1 Compute reconstruction error"
   ]
  },
  {
   "cell_type": "markdown",
   "metadata": {},
   "source": [
    "#### RBF"
   ]
  },
  {
   "cell_type": "code",
   "execution_count": null,
   "metadata": {},
   "outputs": [],
   "source": [
    "## INPUT ##\n",
    "filename = 'Blobs_RE.csv'\n",
    "kernel = 'rbf'\n",
    "K = 15\n",
    "grid_parameters = [{'sigma': 1/10},{'sigma': 1/5},{'sigma': 1/3}]\n",
    "results = OptimizeParameters(filename, K, kernel, grid_parameters)"
   ]
  },
  {
   "cell_type": "markdown",
   "metadata": {},
   "source": [
    "#### Polynomial"
   ]
  },
  {
   "cell_type": "code",
   "execution_count": null,
   "metadata": {},
   "outputs": [],
   "source": [
    "## INPUT ##\n",
    "filename = 'Blobs_RE.csv'\n",
    "kernel = 'polynomial'\n",
    "K = 15\n",
    "grid_parameters = [{'d': 4, 'c':1},{'d': 3, 'c':2}]\n",
    "results = OptimizeParameters(filename, K, kernel, grid_parameters)"
   ]
  },
  {
   "cell_type": "markdown",
   "metadata": {},
   "source": [
    "#### Sigmoid"
   ]
  },
  {
   "cell_type": "code",
   "execution_count": null,
   "metadata": {},
   "outputs": [],
   "source": [
    "## INPUT ##\n",
    "filename = 'Blobs_RE.csv'\n",
    "kernel = 'sigmoid'\n",
    "K = 15\n",
    "grid_parameters = [{'alpha': 3, 'c':2},{'alpha': 3, 'c':1}]\n",
    "results = OptimizeParameters(filename, K, kernel, grid_parameters)"
   ]
  },
  {
   "cell_type": "markdown",
   "metadata": {},
   "source": [
    "### 3.1.2 Plots "
   ]
  },
  {
   "cell_type": "code",
   "execution_count": null,
   "metadata": {},
   "outputs": [],
   "source": [
    "# READ DATA\n",
    "\n",
    "df = pd.read_csv('Blobs.csv')\n",
    "l = []\n",
    "for i in df.index:\n",
    "    l.append([df['x'][i],df['y'][i]])\n",
    "X = np.array(l)\n",
    "y = np.array(df['label'])\n",
    "reds = y == 0\n",
    "blues = y == 1"
   ]
  },
  {
   "cell_type": "code",
   "execution_count": null,
   "metadata": {},
   "outputs": [],
   "source": [
    "kernel = 'rbf'\n",
    "parameters = {'gamma' : 3}\n",
    "\n",
    "plot_PCA(X,reds,blues)\n",
    "plot_KPCA(X,reds,blues,kernel,parameters)"
   ]
  },
  {
   "cell_type": "markdown",
   "metadata": {},
   "source": [
    "### 3.2 Circles"
   ]
  },
  {
   "cell_type": "markdown",
   "metadata": {},
   "source": [
    "### 3.2.1 Compute reconstruction error"
   ]
  },
  {
   "cell_type": "markdown",
   "metadata": {},
   "source": [
    "#### RBF"
   ]
  },
  {
   "cell_type": "code",
   "execution_count": null,
   "metadata": {},
   "outputs": [],
   "source": [
    "## INPUT ##\n",
    "filename = 'Circles.csv'\n",
    "kernel = 'rbf'\n",
    "K = 15\n",
    "grid_parameters = [{'sigma': 1/10},{'sigma': 1/5},{'sigma': 1/3}]\n",
    "results = OptimizeParameters(filename, K, kernel, grid_parameters)"
   ]
  },
  {
   "cell_type": "markdown",
   "metadata": {},
   "source": [
    "#### Polynomial"
   ]
  },
  {
   "cell_type": "code",
   "execution_count": null,
   "metadata": {},
   "outputs": [],
   "source": [
    "## INPUT ##\n",
    "filename = 'Circles.csv'\n",
    "kernel = 'polynomial'\n",
    "K = 15\n",
    "grid_parameters = [{'d': 4, 'c':1},{'d': 3, 'c':2}]\n",
    "results = OptimizeParameters(filename, K, kernel, grid_parameters)"
   ]
  },
  {
   "cell_type": "markdown",
   "metadata": {},
   "source": [
    "#### Sigmoid"
   ]
  },
  {
   "cell_type": "code",
   "execution_count": null,
   "metadata": {},
   "outputs": [],
   "source": [
    "## INPUT ##\n",
    "filename = 'Circles.csv'\n",
    "kernel = 'Sigmoid'\n",
    "K = 15\n",
    "grid_parameters = [{'alpha': 3, 'c':2},{'alpha': 3, 'c':1}]\n",
    "results = OptimizeParameters(filename, K, kernel, grid_parameters)"
   ]
  },
  {
   "cell_type": "markdown",
   "metadata": {},
   "source": [
    "### 3.2.2 Plots "
   ]
  },
  {
   "cell_type": "code",
   "execution_count": null,
   "metadata": {},
   "outputs": [],
   "source": [
    "# READ DATA\n",
    "\n",
    "df = pd.read_csv('Circles.csv')\n",
    "l = []\n",
    "for i in df.index:\n",
    "    l.append([df['x'][i],df['y'][i]])\n",
    "X = np.array(l)\n",
    "y = np.array(df['label'])\n",
    "reds = y == 0\n",
    "blues = y == 1"
   ]
  },
  {
   "cell_type": "code",
   "execution_count": null,
   "metadata": {},
   "outputs": [],
   "source": [
    "kernel = 'rbf'\n",
    "parameters = {'gamma' : 3}\n",
    "\n",
    "plot_PCA(X,reds,blues)\n",
    "plot_KPCA(X,reds,blues,kernel,parameters)"
   ]
  },
  {
   "cell_type": "markdown",
   "metadata": {},
   "source": [
    "## 2.3 Moons"
   ]
  },
  {
   "cell_type": "markdown",
   "metadata": {},
   "source": [
    "### 3.3.1 Compute reconstruction error"
   ]
  },
  {
   "cell_type": "markdown",
   "metadata": {},
   "source": [
    "#### RBF"
   ]
  },
  {
   "cell_type": "code",
   "execution_count": null,
   "metadata": {},
   "outputs": [],
   "source": [
    "## INPUT ##\n",
    "filename = 'Moons.csv'\n",
    "kernel = 'rbf'\n",
    "K = 15\n",
    "grid_parameters = [{'sigma': 1/10},{'sigma': 1/5},{'sigma': 1/3}]\n",
    "results = OptimizeParameters(filename, K, kernel, grid_parameters)"
   ]
  },
  {
   "cell_type": "markdown",
   "metadata": {},
   "source": [
    "#### Polynomial"
   ]
  },
  {
   "cell_type": "code",
   "execution_count": null,
   "metadata": {},
   "outputs": [],
   "source": [
    "## INPUT ##\n",
    "filename = 'Moons.csv'\n",
    "kernel = 'polynomial'\n",
    "K = 15\n",
    "grid_parameters = [{'d': 4, 'c':1},{'d': 3, 'c':2}]\n",
    "results = OptimizeParameters(filename, K, kernel, grid_parameters)"
   ]
  },
  {
   "cell_type": "markdown",
   "metadata": {},
   "source": [
    "#### Sigmoid"
   ]
  },
  {
   "cell_type": "code",
   "execution_count": null,
   "metadata": {},
   "outputs": [],
   "source": [
    "## INPUT ##\n",
    "filename = 'Moons.csv'\n",
    "kernel = 'Sigmoid'\n",
    "K = 15\n",
    "grid_parameters = [{'alpha': 3, 'c':2},{'alpha': 3, 'c':1}]\n",
    "results = OptimizeParameters(filename, K, kernel, grid_parameters)"
   ]
  },
  {
   "cell_type": "markdown",
   "metadata": {},
   "source": [
    "### 3.2.2 Plots "
   ]
  },
  {
   "cell_type": "code",
   "execution_count": null,
   "metadata": {},
   "outputs": [],
   "source": [
    "# READ DATA\n",
    "\n",
    "df = pd.read_csv('Moons.csv')\n",
    "l = []\n",
    "for i in df.index:\n",
    "    l.append([df['x'][i],df['y'][i]])\n",
    "X = np.array(l)\n",
    "y = np.array(df['label'])\n",
    "reds = y == 0\n",
    "blues = y == 1"
   ]
  },
  {
   "cell_type": "code",
   "execution_count": null,
   "metadata": {},
   "outputs": [],
   "source": [
    "kernel = 'rbf'\n",
    "parameters = {'gamma' : 3}\n",
    "\n",
    "plot_PCA(X,reds,blues)\n",
    "plot_KPCA(X,reds,blues,kernel,parameters)"
   ]
  },
  {
   "cell_type": "markdown",
   "metadata": {},
   "source": [
    "# 4.Code for four-D reconstruction error"
   ]
  },
  {
   "cell_type": "markdown",
   "metadata": {},
   "source": [
    "The same code as described in point 1 but adapted for working with 4-D datasets"
   ]
  },
  {
   "cell_type": "code",
   "execution_count": null,
   "metadata": {},
   "outputs": [],
   "source": [
    "import numpy as np\n",
    "import pandas as pd\n",
    "from matplotlib import pyplot\n",
    "from scipy.linalg import eigh\n",
    "import random\n",
    "\n",
    "from sklearn.model_selection import KFold\n",
    "from sklearn.decomposition import KernelPCA\n",
    "\n",
    "def iterateRBF(X_t,X,val,evec,gamma, sigma):\n",
    "    num = 0\n",
    "    den = 0 \n",
    "    for i in range(len(X)):\n",
    "        num += gamma[i]*Gaussian(X[i],X_t,sigma)*X[i]\n",
    "        den += gamma[i]*Gaussian(X[i],X_t,sigma)\n",
    "    if den == 0.0:\n",
    "        return 0\n",
    "    return num/den\n",
    "\n",
    "def iteratePolynomic(X_t,X,val,evec,gamma, d, c):\n",
    "    result = 0\n",
    "    for i in range(len(X)):\n",
    "        result += gamma[i]*pow((np.dot(X_t,X[i])+c)/(np.dot(X_t,X_t)+c),d-1)*X[i]\n",
    "    return result\n",
    "\n",
    "\n",
    "def Polynomic(x,z,d,c):\n",
    "    return pow(np.dot(x,z)+c,d)\n",
    "\n",
    "def Gaussian(x,z,sigma):\n",
    "    return np.exp((-(np.linalg.norm(x-z)**2))/(2*sigma**2))\n",
    "\n",
    "def Sigmoid(x,z,aplha,c):\n",
    "    return np.tanh(aplha*np.dot(x,z)+c)\n",
    "\n",
    "def vPolynomic(intr,d,c):\n",
    "    return pow(intr,(1/d))-c\n",
    "\n",
    "def vSigmoid(intr,alpha,c):\n",
    "    return (np.arctanh(intr)-c)/alpha\n",
    "\n",
    "def ComputePreImageRBF(X,val,evec, gamma, sigma):\n",
    "    X_t = np.ones(len(X[0]))\n",
    "    new_X_t = iterateRBF(X_t,X,val,evec,gamma, sigma) #1500\n",
    "    i = 0\n",
    "    k = 0\n",
    "    while np.linalg.norm(new_X_t - X_t) > 0.001 and i < 500:\n",
    "        X_t = new_X_t\n",
    "        i += 1\n",
    "        if i == 500 and k < 3:\n",
    "            i = 0\n",
    "            k += 1\n",
    "            li = []\n",
    "            for i in range(len(X[0])):\n",
    "                li.append(random.uniform(-1, 1))\n",
    "            X_t = np.array(li) \n",
    "        new_X_t = iterateRBF(X_t,X,val,evec,gamma, sigma)\n",
    "    return new_X_t\n",
    "\n",
    "def ComputePreImagePolynomic_odd(X,val,evec, gamma,d,c):\n",
    "    e = np.array([[1.0,0.0,0.0,0.0],[0.0,1.0,0.0,0.0],[0.0,0.0,1.0,0.0],[0.0,0.0,0.0,1.0]])\n",
    "    preimage = np.array([0.0,0.0,0.0,0.0])\n",
    "    for j in range(len(e)):\n",
    "        intr = 0\n",
    "        for i in range(len(X)):\n",
    "            intr += gamma[i]*Polynomic(e[j],X[i],d,c)\n",
    "        if intr < 0:\n",
    "            intr = -intr\n",
    "        preimage += vPolynomic(intr,d,c)*e[j]\n",
    "    return preimage\n",
    "        \n",
    "def ComputePreImagePolynomic_even(X,val,evec, gamma, d, c):\n",
    "    X_t = np.ones(len(X[0]))\n",
    "    new_X_t = iteratePolynomic(X_t,X,val,evec,gamma, d, c)\n",
    "    i = 0\n",
    "    while np.linalg.norm(new_X_t - X_t) > 0.001 and i < 1000:\n",
    "        X_t = new_X_t\n",
    "        new_X_t = iteratePolynomic(X_t,X,val,evec,gamma, d, c)\n",
    "        i += 1\n",
    "    return new_X_t\n",
    "        \n",
    "def ComputePreImagePolynomic(X,val,evec, gamma, d, c):\n",
    "    if d%2 == 0:\n",
    "        return ComputePreImagePolynomic_even(X, val, evec, gamma, d, c)\n",
    "    else:\n",
    "        return ComputePreImagePolynomic_odd(X, val, evec, gamma, d, c)\n",
    "        \n",
    "def ComputePreImageSigmoid(X,val,evec, gamma, alpha, c):\n",
    "    e = np.array([[1.0,0.0,0.0,0.0],[0.0,1.0,0.0,0.0],[0.0,0.0,1.0,0.0],[0.0,0.0,0.0,1.0]])\n",
    "    preimage = np.array([0.0,0.0,0.0,0.0])\n",
    "    for j in range(len(e)):\n",
    "        intr = 0\n",
    "        for i in range(len(X)):\n",
    "            intr += gamma[i]*Sigmoid(e[j],X[i],alpha,c)\n",
    "        if intr <= -1:\n",
    "            intr = -0.9\n",
    "        if intr >= 1:\n",
    "            intr = 0.9\n",
    "        preimage += vSigmoid(intr,alpha,c)*e[j]\n",
    "    return preimage\n",
    "\n",
    "def compute_gamma_RBF_i(i,X_test,X,val,evec, sigma):\n",
    "    gamma = 0\n",
    "    for j in range(2):\n",
    "        if j == 2:\n",
    "            if max(val[:pj]) > max(val[pj+1:]):\n",
    "                pj = np.argmax(val[:pj])\n",
    "            else:\n",
    "                pj = np.argmax(val[pj+1:])       \n",
    "        pj = np.argmax(val)\n",
    "        alphaj = evec[pj]\n",
    "        for h in range(len(alphaj)):\n",
    "            gamma += alphaj[i]*Gaussian(X[h],X_test,sigma)*alphaj[h]\n",
    "    return gamma  \n",
    "\n",
    "def compute_gamma_Polynomic_i(i,X_test,X,val,evec, d, c):\n",
    "    gamma = 0\n",
    "    for j in range(2):\n",
    "        if j == 2:\n",
    "            if max(val[:pj]) > max(val[pj+1:]):\n",
    "                pj = np.argmax(val[:pj])\n",
    "            else:\n",
    "                pj = np.argmax(val[pj+1:])       \n",
    "        pj = np.argmax(val)\n",
    "        alphaj = evec[pj]\n",
    "        for h in range(len(alphaj)):\n",
    "            gamma += alphaj[i]*Polynomic(X[h],X_test,d,c)*alphaj[h]\n",
    "    return gamma\n",
    "\n",
    "def compute_gamma_Sigmoid_i(i,X_test,X,val,evec, alpha, c):\n",
    "    gamma = 0\n",
    "    for j in range(2):\n",
    "        if j == 2:\n",
    "            if max(val[:pj]) > max(val[pj+1:]):\n",
    "                pj = np.argmax(val[:pj])\n",
    "            else:\n",
    "                pj = np.argmax(val[pj+1:])       \n",
    "        pj = np.argmax(val)\n",
    "        alphaj = evec[pj]\n",
    "        for h in range(len(alphaj)):\n",
    "            gamma += alphaj[i]*Sigmoid(X[h],X_test,alpha,c)*alphaj[h]\n",
    "    return gamma\n",
    "\n",
    "def ComputeGammaRBF(X_test, X, val, evec, sigma):\n",
    "    gamma = []\n",
    "    for i in range(len(X)):\n",
    "        gamma.append(compute_gamma_RBF_i(i,X_test,X,val,evec,sigma))\n",
    "    return gamma\n",
    "\n",
    "def ComputeGammaPolynomic(X_test, X, val, evec, d, c):\n",
    "    gamma = []\n",
    "    for i in range(len(X)):\n",
    "        gamma.append(compute_gamma_Polynomic_i(i,X_test,X,val,evec, d, c))\n",
    "    return gamma\n",
    "\n",
    "def ComputeGammaSigmoid(X_test, X, val, evec, aplha, c):\n",
    "    gamma = []\n",
    "    for i in range(len(X)):\n",
    "        gamma.append(compute_gamma_Sigmoid_i(i,X_test,X,val,evec, aplha, c))\n",
    "    return gamma\n",
    "\n",
    "def Polynomic(x,z,d,c):\n",
    "    return pow(np.dot(x,z)+c,d)\n",
    "\n",
    "def Gaussian(x,z,sigma):\n",
    "    return np.exp((-(np.linalg.norm(x-z)**2))/(2*sigma**2))\n",
    "\n",
    "def Sigmoid(x,z,aplha,c):\n",
    "    return np.tanh(aplha*np.dot(x,z)+c)\n",
    "\n",
    "\n",
    "def GaussianMatrix(X,sigma):\n",
    "    row,col=X.shape\n",
    "    GassMatrix=np.zeros(shape=(row,row))\n",
    "    i=0\n",
    "    for v_i in X:\n",
    "        j=0\n",
    "        for v_j in X:\n",
    "            GassMatrix[i,j]=Gaussian(v_i.T,v_j.T,sigma)\n",
    "            j+=1\n",
    "        i+=1\n",
    "    return GassMatrix\n",
    "\n",
    "def SigmoidMatrix(X,alpha, c):\n",
    "    row,col=X.shape\n",
    "    SigmoidMatrix=np.zeros(shape=(row,row))\n",
    "    i=0\n",
    "    for v_i in X:\n",
    "        j=0\n",
    "        for v_j in X:\n",
    "            SigmoidMatrix[i,j]=Sigmoid(v_i.T,v_j.T,alpha, c)\n",
    "            j+=1\n",
    "        i+=1\n",
    "    return SigmoidMatrix\n",
    "\n",
    "def PolynomicalMatrix(X,d,c):\n",
    "    row,col=X.shape\n",
    "    PolMatrix=np.zeros(shape=(row,row))\n",
    "    i=0\n",
    "    for v_i in X:\n",
    "        j=0\n",
    "        for v_j in X:\n",
    "            PolMatrix[i,j]=Polynomic(v_i.T,v_j.T,d,c)\n",
    "            j+=1\n",
    "        i+=1\n",
    "    return PolMatrix\n",
    "\n",
    "def computeKernelMatrix(kernel, X, parameters):\n",
    "    if kernel == 'rbf':\n",
    "        return GaussianMatrix(X,parameters['sigma'])\n",
    "    elif kernel == 'sigmoid':\n",
    "        return SigmoidMatrix(X,parameters['alpha'],parameters['c'])\n",
    "    elif kernel == 'polynomial':\n",
    "        return PolynomicalMatrix(X,parameters['d'],parameters['c'])\n",
    "\n",
    "def ComputeGamma(kernel, parameters, val, evec, point, X):\n",
    "    if kernel == 'rbf':\n",
    "        return ComputeGammaRBF(point, X, val, evec, parameters['sigma'])\n",
    "    elif kernel == 'sigmoid':\n",
    "        return ComputeGammaSigmoid(point, X, val, evec, parameters['alpha'],parameters['c'])\n",
    "    elif kernel == 'polynomial':\n",
    "        return ComputeGammaPolynomic(point, X, val, evec,parameters['d'],parameters['c'])\n",
    "\n",
    "def ComputePreImage(kernel, parameters, val, evec, X, gamma):\n",
    "    if kernel == 'rbf':\n",
    "        return ComputePreImageRBF(X,val,evec, gamma, parameters['sigma'])\n",
    "    elif kernel == 'sigmoid':\n",
    "        return ComputePreImageSigmoid(X,val,evec, gamma, parameters['alpha'],parameters['c'])\n",
    "    elif kernel == 'polynomial':\n",
    "        return ComputePreImagePolynomic(X,val,evec, gamma, parameters['d'],parameters['c'])\n",
    "    \n",
    "def CrossValidation_ParameterH(kf , kernel, parameters, X): \n",
    "    RecError = []\n",
    "    for train_index, test_index in kf.split(X):\n",
    "        print('NEW GROUP')\n",
    "        X_train= X[train_index]\n",
    "        X_test = X[test_index]\n",
    "        KM = computeKernelMatrix(kernel, X_train, parameters)\n",
    "        val, evec = eigh(KM)\n",
    "        for point in X_test:\n",
    "            gamma = ComputeGamma(kernel, parameters, val, evec, point, X_train) #3000\n",
    "            preimage = ComputePreImage(kernel, parameters, val, evec, X_train, gamma) #7500\n",
    "            RecError.append(np.linalg.norm(preimage-point))\n",
    "    \n",
    "    print(sum(RecError)/len(RecError))\n",
    "    return sum(RecError)/len(RecError)   \n",
    "\n",
    "\n",
    "def OptimizeParameters(filename, K, kernel, grid_parameters):\n",
    "    df = pd.read_csv(filename)\n",
    "    l = []\n",
    "    for i in df.index:\n",
    "        l.append([df['x'][i],df['y'][i],df['w'][i],df['z'][i]])\n",
    "    X = np.array(l)\n",
    "    #y = df[:,2]\n",
    "    # Split dataset into groups\n",
    "    kf = KFold(n_splits = K, shuffle = True, random_state = 1) # No randomness    \n",
    "    first = True\n",
    "    results = []\n",
    "    for parameters in grid_parameters:\n",
    "        print('NEW PARAMETERS')\n",
    "        Rec_error = CrossValidation_ParameterH(kf, kernel, parameters, X)\n",
    "        results.append({Rec_error: parameters})   \n",
    "    return results"
   ]
  },
  {
   "cell_type": "markdown",
   "metadata": {},
   "source": [
    "# 5 MONEY DATASET"
   ]
  },
  {
   "cell_type": "markdown",
   "metadata": {},
   "source": [
    "## 5.1 Compute reconstruction error"
   ]
  },
  {
   "cell_type": "markdown",
   "metadata": {},
   "source": [
    "### RBF"
   ]
  },
  {
   "cell_type": "code",
   "execution_count": null,
   "metadata": {},
   "outputs": [],
   "source": [
    "## INPUT ##\n",
    "filename = 'money_RE.csv'\n",
    "kernel = 'rbf'\n",
    "K = 15\n",
    "grid_parameters = [{'sigma': 1/10},{'sigma': 1/5},{'sigma': 1/3}]\n",
    "results = OptimizeParameters(filename, K, kernel, grid_parameters)"
   ]
  },
  {
   "cell_type": "markdown",
   "metadata": {},
   "source": [
    "### Polynomial"
   ]
  },
  {
   "cell_type": "code",
   "execution_count": null,
   "metadata": {},
   "outputs": [],
   "source": [
    "## INPUT ##\n",
    "filename = 'money_RE.csv'\n",
    "kernel = 'polynomial'\n",
    "K = 15\n",
    "grid_parameters = [{'d': 4, 'c':1},{'d': 3, 'c':2}]\n",
    "results = OptimizeParameters(filename, K, kernel, grid_parameters)"
   ]
  },
  {
   "cell_type": "markdown",
   "metadata": {},
   "source": [
    "### Sigmoid"
   ]
  },
  {
   "cell_type": "code",
   "execution_count": null,
   "metadata": {},
   "outputs": [],
   "source": [
    "## INPUT ##\n",
    "filename = 'money_RE.csv'\n",
    "kernel = 'Sigmoid'\n",
    "K = 15\n",
    "grid_parameters = [{'alpha': 3, 'c':2},{'alpha': 3, 'c':1}]\n",
    "results = OptimizeParameters(filename, K, kernel, grid_parameters)"
   ]
  },
  {
   "cell_type": "markdown",
   "metadata": {},
   "source": [
    "## 5.2 Plots"
   ]
  },
  {
   "cell_type": "code",
   "execution_count": null,
   "metadata": {},
   "outputs": [],
   "source": [
    "# READ DATA\n",
    "\n",
    "df = pd.read_csv('Money.csv')\n",
    "l = []\n",
    "for i in df.index:\n",
    "    l.append([df['x'][i],df['y'][i],df['z'][i],df['w'][i]])\n",
    "X = np.array(l)\n",
    "y = np.array(df['label'])\n",
    "reds = y == 0\n",
    "blues = y == 1"
   ]
  },
  {
   "cell_type": "code",
   "execution_count": null,
   "metadata": {},
   "outputs": [],
   "source": [
    "kernel = 'rbf'\n",
    "parameters = {'gamma' : 3}\n",
    "\n",
    "plot_PCA(X,reds,blues)\n",
    "plot_KPCA(X,reds,blues,kernel,parameters)"
   ]
  }
 ],
 "metadata": {
  "kernelspec": {
   "display_name": "Python 3",
   "language": "python",
   "name": "python3"
  },
  "language_info": {
   "codemirror_mode": {
    "name": "ipython",
    "version": 3
   },
   "file_extension": ".py",
   "mimetype": "text/x-python",
   "name": "python",
   "nbconvert_exporter": "python",
   "pygments_lexer": "ipython3",
   "version": "3.7.4"
  }
 },
 "nbformat": 4,
 "nbformat_minor": 2
}
